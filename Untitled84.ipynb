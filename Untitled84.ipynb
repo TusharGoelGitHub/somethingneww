{
 "cells": [
  {
   "cell_type": "code",
   "execution_count": 64,
   "metadata": {},
   "outputs": [],
   "source": [
    "import numpy as np\n",
    "import matplotlib.pyplot as plt"
   ]
  },
  {
   "cell_type": "code",
   "execution_count": 27,
   "metadata": {},
   "outputs": [],
   "source": []
  },
  {
   "cell_type": "code",
   "execution_count": 12,
   "metadata": {},
   "outputs": [
    {
     "name": "stdout",
     "output_type": "stream",
     "text": [
      "<class 'numpy.ndarray'> <class 'numpy.ndarray'>\n"
     ]
    }
   ],
   "source": [
    "print(type(x),type(y))"
   ]
  },
  {
   "cell_type": "code",
   "execution_count": 28,
   "metadata": {},
   "outputs": [
    {
     "data": {
      "text/plain": [
       "<matplotlib.collections.PathCollection at 0x1f937dbc7c0>"
      ]
     },
     "execution_count": 28,
     "metadata": {},
     "output_type": "execute_result"
    },
    {
     "data": {
      "image/png": "[encoded data removed]",
      "text/plain": [
       "<Figure size 432x288 with 1 Axes>"
      ]
     },
     "metadata": {
      "needs_background": "light"
     },
     "output_type": "display_data"
    }
   ],
   "source": [
    "plt.scatter(x,y)"
   ]
  },
  {
   "cell_type": "code",
   "execution_count": 77,
   "metadata": {},
   "outputs": [
    {
     "data": {
      "text/plain": [
       "<matplotlib.collections.PathCollection at 0x1f939b86850>"
      ]
     },
     "execution_count": 77,
     "metadata": {},
     "output_type": "execute_result"
    },
    {
     "data": {
      "image/png": "[encoded data removed]",
      "text/plain": [
       "<Figure size 432x288 with 1 Axes>"
      ]
     },
     "metadata": {
      "needs_background": "light"
     },
     "output_type": "display_data"
    }
   ],
   "source": [
    "def gd(x,y):\n",
    "    lr=0.1\n",
    "    n=len(x)\n",
    "    m=c=0\n",
    "    iterations=200\n",
    "    for i in range(iterations) :\n",
    "        y_=m*x+c\n",
    "        suum=0\n",
    "        for g in y-y_:\n",
    "            suum=suum+(g**2)\n",
    "        cost=(1/n)*suum\n",
    "        md=(2/n)*sum((y-y_)*(-x))\n",
    "        cd=(2/n)*sum((y-y_)*(-1))\n",
    "        m=m-lr*md\n",
    "        c=c-lr*cd\n",
    "        print(cost)\n",
    "x=np.array([1,2,3,4,5,6,7,8,9,10])\n",
    "y=(x-5)**2\n",
    "plt.scatter(x,y)\n"
   ]
  },
  {
   "cell_type": "code",
   "execution_count": 66,
   "metadata": {},
   "outputs": [],
   "source": [
    "import pandas as pd"
   ]
  },
  {
   "cell_type": "code",
   "execution_count": 67,
   "metadata": {},
   "outputs": [],
   "source": [
    "X=pd.read_csv(\"C:\\\\Users\\\\tgtus\\\\Desktop\\\\Linear_X_Train.csv\")\n",
    "Y=pd.read_csv(\"C:\\\\Users\\\\tgtus\\\\Desktop\\\\Linear_Y_Train.csv\")"
   ]
  },
  {
   "cell_type": "code",
   "execution_count": 68,
   "metadata": {},
   "outputs": [],
   "source": [
    "X=X.values"
   ]
  },
  {
   "cell_type": "code",
   "execution_count": 76,
   "metadata": {},
   "outputs": [
    {
     "ename": "AttributeError",
     "evalue": "'numpy.ndarray' object has no attribute 'values'",
     "output_type": "error",
     "traceback": [
      "\u001b[1;31m---------------------------------------------------------------------------\u001b[0m",
      "\u001b[1;31mAttributeError\u001b[0m                            Traceback (most recent call last)",
      "\u001b[1;32m<ipython-input-76-18be5c9c5aa9>\u001b[0m in \u001b[0;36m<module>\u001b[1;34m\u001b[0m\n\u001b[1;32m----> 1\u001b[1;33m \u001b[0mY\u001b[0m\u001b[1;33m=\u001b[0m\u001b[0mY\u001b[0m\u001b[1;33m.\u001b[0m\u001b[0mvalues\u001b[0m\u001b[1;33m\u001b[0m\u001b[1;33m\u001b[0m\u001b[0m\n\u001b[0m\u001b[0;32m      2\u001b[0m \u001b[0mX\u001b[0m\u001b[1;33m.\u001b[0m\u001b[0mshape\u001b[0m\u001b[1;33m\u001b[0m\u001b[1;33m\u001b[0m\u001b[0m\n",
      "\u001b[1;31mAttributeError\u001b[0m: 'numpy.ndarray' object has no attribute 'values'"
     ]
    }
   ],
   "source": [
    "Y=Y.values\n",
    "X.shape"
   ]
  },
  {
   "cell_type": "code",
   "execution_count": 78,
   "metadata": {},
   "outputs": [
    {
     "name": "stdout",
     "output_type": "stream",
     "text": [
      "[6576.35005246]\n",
      "[4311.57937909]\n",
      "[2850.99226764]\n",
      "[1908.70648803]\n",
      "[1300.58774704]\n",
      "[907.99410633]\n",
      "[654.45455762]\n",
      "[490.66201711]\n",
      "[384.81301359]\n",
      "[316.38689627]\n",
      "[272.13848924]\n",
      "[243.5156912]\n",
      "[224.99474124]\n",
      "[213.00667533]\n",
      "[205.24478337]\n",
      "[200.2176948]\n",
      "[196.96087464]\n",
      "[194.85031755]\n",
      "[193.48219733]\n",
      "[192.5950965]\n",
      "[192.01973479]\n",
      "[191.64646241]\n",
      "[191.40423384]\n",
      "[191.24700322]\n",
      "[191.14491897]\n",
      "[191.07862289]\n",
      "[191.03555811]\n",
      "[191.00757737]\n",
      "[190.98939306]\n",
      "[190.97757266]\n",
      "[190.9698873]\n",
      "[190.96488939]\n",
      "[190.96163849]\n",
      "[190.9595235]\n",
      "[190.95814724]\n",
      "[190.95725151]\n",
      "[190.95666842]\n",
      "[190.95628878]\n",
      "[190.95604156]\n",
      "[190.95588054]\n",
      "[190.95577565]\n",
      "[190.95570731]\n",
      "[190.95566278]\n",
      "[190.95563375]\n",
      "[190.95561483]\n",
      "[190.9556025]\n",
      "[190.95559446]\n",
      "[190.95558921]\n",
      "[190.95558579]\n",
      "[190.95558356]\n",
      "[190.95558211]\n",
      "[190.95558116]\n",
      "[190.95558054]\n",
      "[190.95558013]\n",
      "[190.95557987]\n",
      "[190.9555797]\n",
      "[190.95557958]\n",
      "[190.95557951]\n",
      "[190.95557946]\n",
      "[190.95557943]\n",
      "[190.95557941]\n",
      "[190.9555794]\n",
      "[190.95557939]\n",
      "[190.95557938]\n",
      "[190.95557938]\n",
      "[190.95557938]\n",
      "[190.95557938]\n",
      "[190.95557937]\n",
      "[190.95557937]\n",
      "[190.95557937]\n",
      "[190.95557937]\n",
      "[190.95557937]\n",
      "[190.95557937]\n",
      "[190.95557937]\n",
      "[190.95557937]\n",
      "[190.95557937]\n",
      "[190.95557937]\n",
      "[190.95557937]\n",
      "[190.95557937]\n",
      "[190.95557937]\n",
      "[190.95557937]\n",
      "[190.95557937]\n",
      "[190.95557937]\n",
      "[190.95557937]\n",
      "[190.95557937]\n",
      "[190.95557937]\n",
      "[190.95557937]\n",
      "[190.95557937]\n",
      "[190.95557937]\n",
      "[190.95557937]\n",
      "[190.95557937]\n",
      "[190.95557937]\n",
      "[190.95557937]\n",
      "[190.95557937]\n",
      "[190.95557937]\n",
      "[190.95557937]\n",
      "[190.95557937]\n",
      "[190.95557937]\n",
      "[190.95557937]\n",
      "[190.95557937]\n",
      "[190.95557937]\n",
      "[190.95557937]\n",
      "[190.95557937]\n",
      "[190.95557937]\n",
      "[190.95557937]\n",
      "[190.95557937]\n",
      "[190.95557937]\n",
      "[190.95557937]\n",
      "[190.95557937]\n",
      "[190.95557937]\n",
      "[190.95557937]\n",
      "[190.95557937]\n",
      "[190.95557937]\n",
      "[190.95557937]\n",
      "[190.95557937]\n",
      "[190.95557937]\n",
      "[190.95557937]\n",
      "[190.95557937]\n",
      "[190.95557937]\n",
      "[190.95557937]\n",
      "[190.95557937]\n",
      "[190.95557937]\n",
      "[190.95557937]\n",
      "[190.95557937]\n",
      "[190.95557937]\n",
      "[190.95557937]\n",
      "[190.95557937]\n",
      "[190.95557937]\n",
      "[190.95557937]\n",
      "[190.95557937]\n",
      "[190.95557937]\n",
      "[190.95557937]\n",
      "[190.95557937]\n",
      "[190.95557937]\n",
      "[190.95557937]\n",
      "[190.95557937]\n",
      "[190.95557937]\n",
      "[190.95557937]\n",
      "[190.95557937]\n",
      "[190.95557937]\n",
      "[190.95557937]\n",
      "[190.95557937]\n",
      "[190.95557937]\n",
      "[190.95557937]\n",
      "[190.95557937]\n",
      "[190.95557937]\n",
      "[190.95557937]\n",
      "[190.95557937]\n",
      "[190.95557937]\n",
      "[190.95557937]\n",
      "[190.95557937]\n",
      "[190.95557937]\n",
      "[190.95557937]\n",
      "[190.95557937]\n",
      "[190.95557937]\n",
      "[190.95557937]\n",
      "[190.95557937]\n",
      "[190.95557937]\n",
      "[190.95557937]\n",
      "[190.95557937]\n",
      "[190.95557937]\n",
      "[190.95557937]\n",
      "[190.95557937]\n",
      "[190.95557937]\n",
      "[190.95557937]\n",
      "[190.95557937]\n",
      "[190.95557937]\n",
      "[190.95557937]\n",
      "[190.95557937]\n",
      "[190.95557937]\n",
      "[190.95557937]\n",
      "[190.95557937]\n",
      "[190.95557937]\n",
      "[190.95557937]\n",
      "[190.95557937]\n",
      "[190.95557937]\n",
      "[190.95557937]\n",
      "[190.95557937]\n",
      "[190.95557937]\n",
      "[190.95557937]\n",
      "[190.95557937]\n",
      "[190.95557937]\n",
      "[190.95557937]\n",
      "[190.95557937]\n",
      "[190.95557937]\n",
      "[190.95557937]\n",
      "[190.95557937]\n",
      "[190.95557937]\n",
      "[190.95557937]\n",
      "[190.95557937]\n",
      "[190.95557937]\n",
      "[190.95557937]\n",
      "[190.95557937]\n",
      "[190.95557937]\n",
      "[190.95557937]\n",
      "[190.95557937]\n",
      "[190.95557937]\n",
      "[190.95557937]\n",
      "[190.95557937]\n",
      "[190.95557937]\n"
     ]
    }
   ],
   "source": [
    "\n",
    "gd(X,Y)"
   ]
  },
  {
   "cell_type": "code",
   "execution_count": null,
   "metadata": {},
   "outputs": [],
   "source": []
  },
  {
   "cell_type": "code",
   "execution_count": null,
   "metadata": {},
   "outputs": [],
   "source": []
  }
 ],
 "metadata": {
  "kernelspec": {
   "display_name": "Python 3",
   "language": "python",
   "name": "python3"
  },
  "language_info": {
   "codemirror_mode": {
    "name": "ipython",
    "version": 3
   },
   "file_extension": ".py",
   "mimetype": "text/x-python",
   "name": "python",
   "nbconvert_exporter": "python",
   "pygments_lexer": "ipython3",
   "version": "3.8.3"
  }
 },
 "nbformat": 4,
 "nbformat_minor": 4
}
