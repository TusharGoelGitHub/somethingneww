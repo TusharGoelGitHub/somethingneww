{
 "cells": [
  {
   "cell_type": "code",
   "execution_count": 15,
   "metadata": {},
   "outputs": [],
   "source": [
    "import numpy as np\n",
    "import matplotlib.pyplot as plt"
   ]
  },
  {
   "cell_type": "code",
   "execution_count": 16,
   "metadata": {},
   "outputs": [],
   "source": [
    "def gd(x,y):\n",
    "    lr=0.1\n",
    "    n=x.shape[0]\n",
    "    m=c=0\n",
    "    iterations=200\n",
    "    for i in range(iterations) :\n",
    "        y_=m*x+c\n",
    "        suum=0\n",
    "        for g in y-y_:\n",
    "            suum=suum+(g**2)\n",
    "        cost=(1/n)*suum\n",
    "        md=(2/n)*sum((y-y_)*(-x))\n",
    "        cd=(2/n)*sum((y-y_)*(-1))\n",
    "        m=m-lr*md\n",
    "        c=c-lr*cd\n",
    "        print(cost)\n",
    "    return(m,c)    \n"
   ]
  },
  {
   "cell_type": "code",
   "execution_count": 17,
   "metadata": {},
   "outputs": [],
   "source": [
    "import pandas as pd"
   ]
  },
  {
   "cell_type": "code",
   "execution_count": 18,
   "metadata": {},
   "outputs": [],
   "source": [
    "X=pd.read_csv(\"C:\\\\Users\\\\tgtus\\\\Desktop\\\\Linear_X_Train.csv\")\n",
    "Y=pd.read_csv(\"C:\\\\Users\\\\tgtus\\\\Desktop\\\\Linear_Y_Train.csv\")"
   ]
  },
  {
   "cell_type": "code",
   "execution_count": 19,
   "metadata": {},
   "outputs": [],
   "source": [
    "X=X.values\n",
    "Y=Y.values\n"
   ]
  },
  {
   "cell_type": "code",
   "execution_count": 31,
   "metadata": {},
   "outputs": [
    {
     "name": "stdout",
     "output_type": "stream",
     "text": [
      "[6576.35005246]\n",
      "[4311.57937909]\n",
      "[2850.99226764]\n",
      "[1908.70648803]\n",
      "[1300.58774704]\n",
      "[907.99410633]\n",
      "[654.45455762]\n",
      "[490.66201711]\n",
      "[384.81301359]\n",
      "[316.38689627]\n",
      "[272.13848924]\n",
      "[243.5156912]\n",
      "[224.99474124]\n",
      "[213.00667533]\n",
      "[205.24478337]\n",
      "[200.2176948]\n",
      "[196.96087464]\n",
      "[194.85031755]\n",
      "[193.48219733]\n",
      "[192.5950965]\n",
      "[192.01973479]\n",
      "[191.64646241]\n",
      "[191.40423384]\n",
      "[191.24700322]\n",
      "[191.14491897]\n",
      "[191.07862289]\n",
      "[191.03555811]\n",
      "[191.00757737]\n",
      "[190.98939306]\n",
      "[190.97757266]\n",
      "[190.9698873]\n",
      "[190.96488939]\n",
      "[190.96163849]\n",
      "[190.9595235]\n",
      "[190.95814724]\n",
      "[190.95725151]\n",
      "[190.95666842]\n",
      "[190.95628878]\n",
      "[190.95604156]\n",
      "[190.95588054]\n",
      "[190.95577565]\n",
      "[190.95570731]\n",
      "[190.95566278]\n",
      "[190.95563375]\n",
      "[190.95561483]\n",
      "[190.9556025]\n",
      "[190.95559446]\n",
      "[190.95558921]\n",
      "[190.95558579]\n",
      "[190.95558356]\n",
      "[190.95558211]\n",
      "[190.95558116]\n",
      "[190.95558054]\n",
      "[190.95558013]\n",
      "[190.95557987]\n",
      "[190.9555797]\n",
      "[190.95557958]\n",
      "[190.95557951]\n",
      "[190.95557946]\n",
      "[190.95557943]\n",
      "[190.95557941]\n",
      "[190.9555794]\n",
      "[190.95557939]\n",
      "[190.95557938]\n",
      "[190.95557938]\n",
      "[190.95557938]\n",
      "[190.95557938]\n",
      "[190.95557937]\n",
      "[190.95557937]\n",
      "[190.95557937]\n",
      "[190.95557937]\n",
      "[190.95557937]\n",
      "[190.95557937]\n",
      "[190.95557937]\n",
      "[190.95557937]\n",
      "[190.95557937]\n",
      "[190.95557937]\n",
      "[190.95557937]\n",
      "[190.95557937]\n",
      "[190.95557937]\n",
      "[190.95557937]\n",
      "[190.95557937]\n",
      "[190.95557937]\n",
      "[190.95557937]\n",
      "[190.95557937]\n",
      "[190.95557937]\n",
      "[190.95557937]\n",
      "[190.95557937]\n",
      "[190.95557937]\n",
      "[190.95557937]\n",
      "[190.95557937]\n",
      "[190.95557937]\n",
      "[190.95557937]\n",
      "[190.95557937]\n",
      "[190.95557937]\n",
      "[190.95557937]\n",
      "[190.95557937]\n",
      "[190.95557937]\n",
      "[190.95557937]\n",
      "[190.95557937]\n",
      "[190.95557937]\n",
      "[190.95557937]\n",
      "[190.95557937]\n",
      "[190.95557937]\n",
      "[190.95557937]\n",
      "[190.95557937]\n",
      "[190.95557937]\n",
      "[190.95557937]\n",
      "[190.95557937]\n",
      "[190.95557937]\n",
      "[190.95557937]\n",
      "[190.95557937]\n",
      "[190.95557937]\n",
      "[190.95557937]\n",
      "[190.95557937]\n",
      "[190.95557937]\n",
      "[190.95557937]\n",
      "[190.95557937]\n",
      "[190.95557937]\n",
      "[190.95557937]\n",
      "[190.95557937]\n",
      "[190.95557937]\n",
      "[190.95557937]\n",
      "[190.95557937]\n",
      "[190.95557937]\n",
      "[190.95557937]\n",
      "[190.95557937]\n",
      "[190.95557937]\n",
      "[190.95557937]\n",
      "[190.95557937]\n",
      "[190.95557937]\n",
      "[190.95557937]\n",
      "[190.95557937]\n",
      "[190.95557937]\n",
      "[190.95557937]\n",
      "[190.95557937]\n",
      "[190.95557937]\n",
      "[190.95557937]\n",
      "[190.95557937]\n",
      "[190.95557937]\n",
      "[190.95557937]\n",
      "[190.95557937]\n",
      "[190.95557937]\n",
      "[190.95557937]\n",
      "[190.95557937]\n",
      "[190.95557937]\n",
      "[190.95557937]\n",
      "[190.95557937]\n",
      "[190.95557937]\n",
      "[190.95557937]\n",
      "[190.95557937]\n",
      "[190.95557937]\n",
      "[190.95557937]\n",
      "[190.95557937]\n",
      "[190.95557937]\n",
      "[190.95557937]\n",
      "[190.95557937]\n",
      "[190.95557937]\n",
      "[190.95557937]\n",
      "[190.95557937]\n",
      "[190.95557937]\n",
      "[190.95557937]\n",
      "[190.95557937]\n",
      "[190.95557937]\n",
      "[190.95557937]\n",
      "[190.95557937]\n",
      "[190.95557937]\n",
      "[190.95557937]\n",
      "[190.95557937]\n",
      "[190.95557937]\n",
      "[190.95557937]\n",
      "[190.95557937]\n",
      "[190.95557937]\n",
      "[190.95557937]\n",
      "[190.95557937]\n",
      "[190.95557937]\n",
      "[190.95557937]\n",
      "[190.95557937]\n",
      "[190.95557937]\n",
      "[190.95557937]\n",
      "[190.95557937]\n",
      "[190.95557937]\n",
      "[190.95557937]\n",
      "[190.95557937]\n",
      "[190.95557937]\n",
      "[190.95557937]\n",
      "[190.95557937]\n",
      "[190.95557937]\n",
      "[190.95557937]\n",
      "[190.95557937]\n",
      "[190.95557937]\n",
      "[190.95557937]\n",
      "[190.95557937]\n",
      "[190.95557937]\n",
      "[190.95557937]\n",
      "[190.95557937]\n",
      "[190.95557937]\n",
      "[190.95557937]\n",
      "[190.95557937]\n",
      "[190.95557937]\n"
     ]
    }
   ],
   "source": [
    "a=gd(X,Y)"
   ]
  },
  {
   "cell_type": "code",
   "execution_count": 21,
   "metadata": {},
   "outputs": [
    {
     "data": {
      "text/plain": [
       "array([80.54363185])"
      ]
     },
     "execution_count": 21,
     "metadata": {},
     "output_type": "execute_result"
    }
   ],
   "source": [
    "a[0]"
   ]
  },
  {
   "cell_type": "code",
   "execution_count": 22,
   "metadata": {},
   "outputs": [
    {
     "data": {
      "text/plain": [
       "array([3.72798828])"
      ]
     },
     "execution_count": 22,
     "metadata": {},
     "output_type": "execute_result"
    }
   ],
   "source": [
    "a[1]"
   ]
  },
  {
   "cell_type": "code",
   "execution_count": 26,
   "metadata": {},
   "outputs": [],
   "source": [
    "s=(1,2)"
   ]
  },
  {
   "cell_type": "code",
   "execution_count": 27,
   "metadata": {},
   "outputs": [
    {
     "data": {
      "text/plain": [
       "1"
      ]
     },
     "execution_count": 27,
     "metadata": {},
     "output_type": "execute_result"
    }
   ],
   "source": [
    "s[0]"
   ]
  },
  {
   "cell_type": "code",
   "execution_count": 28,
   "metadata": {},
   "outputs": [
    {
     "data": {
      "text/plain": [
       "2"
      ]
     },
     "execution_count": 28,
     "metadata": {},
     "output_type": "execute_result"
    }
   ],
   "source": [
    "s[1]"
   ]
  },
  {
   "cell_type": "code",
   "execution_count": 33,
   "metadata": {},
   "outputs": [
    {
     "data": {
      "text/plain": [
       "[<matplotlib.lines.Line2D at 0x264cc028ac0>]"
      ]
     },
     "execution_count": 33,
     "metadata": {},
     "output_type": "execute_result"
    },
    {
     "data": {
      "image/png": "[encoded data removed]",
      "text/plain": [
       "<Figure size 432x288 with 1 Axes>"
      ]
     },
     "metadata": {
      "needs_background": "light"
     },
     "output_type": "display_data"
    }
   ],
   "source": [
    "plt.scatter(X,Y)\n",
    "j=a[0]*X+a[1]\n",
    "plt.plot(X,j,color='orange')"
   ]
  },
  {
   "cell_type": "code",
   "execution_count": 34,
   "metadata": {},
   "outputs": [],
   "source": [
    "newx=pd.read_csv(\"C:\\\\Users\\\\tgtus\\\\Desktop\\\\Linear_X_Test.csv\")"
   ]
  },
  {
   "cell_type": "code",
   "execution_count": 35,
   "metadata": {},
   "outputs": [],
   "source": [
    "newx=newx.values"
   ]
  },
  {
   "cell_type": "code",
   "execution_count": 36,
   "metadata": {},
   "outputs": [
    {
     "name": "stdout",
     "output_type": "stream",
     "text": [
      "[[-1.87794441]\n",
      " [-0.86903192]\n",
      " [-2.53018242]\n",
      " ...\n",
      " [ 0.12800782]\n",
      " [-0.27803759]\n",
      " [-0.68042543]]\n"
     ]
    }
   ],
   "source": [
    "print(newx)"
   ]
  },
  {
   "cell_type": "code",
   "execution_count": 37,
   "metadata": {},
   "outputs": [],
   "source": [
    "newy=a[0]*newx+a[1]"
   ]
  },
  {
   "cell_type": "code",
   "execution_count": 38,
   "metadata": {},
   "outputs": [
    {
     "data": {
      "text/plain": [
       "array([[-147.52847525],\n",
       "       [ -66.26699842],\n",
       "       [-200.06209345],\n",
       "       ...,\n",
       "       [  14.0382031 ],\n",
       "       [ -18.66616899],\n",
       "       [ -51.07594693]])"
      ]
     },
     "execution_count": 38,
     "metadata": {},
     "output_type": "execute_result"
    }
   ],
   "source": [
    "newy"
   ]
  },
  {
   "cell_type": "code",
   "execution_count": 39,
   "metadata": {},
   "outputs": [],
   "source": [
    "df=pd.DataFrame(data=newy,columns=['y'])"
   ]
  },
  {
   "cell_type": "code",
   "execution_count": 40,
   "metadata": {},
   "outputs": [],
   "source": [
    "df.to_csv('y_predictions',index=False)"
   ]
  },
  {
   "cell_type": "code",
   "execution_count": null,
   "metadata": {},
   "outputs": [],
   "source": [
    "y_predictions"
   ]
  }
 ],
 "metadata": {
  "kernelspec": {
   "display_name": "Python 3",
   "language": "python",
   "name": "python3"
  },
  "language_info": {
   "codemirror_mode": {
    "name": "ipython",
    "version": 3
   },
   "file_extension": ".py",
   "mimetype": "text/x-python",
   "name": "python",
   "nbconvert_exporter": "python",
   "pygments_lexer": "ipython3",
   "version": "3.8.3"
  }
 },
 "nbformat": 4,
 "nbformat_minor": 4
}
